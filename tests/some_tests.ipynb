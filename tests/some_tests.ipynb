{
 "cells": [
  {
   "cell_type": "code",
   "execution_count": 1,
   "metadata": {},
   "outputs": [],
   "source": [
    "import sys\n",
    "sys.path.append('../src/')\n",
    "import pdb \n",
    "import traceback\n",
    "from pprint import pprint\n",
    "\n",
    "import jax\n",
    "from jax import numpy as jnp\n",
    "\n",
    "import common_jax_utils as cju"
   ]
  },
  {
   "cell_type": "code",
   "execution_count": 2,
   "metadata": {},
   "outputs": [
    {
     "name": "stderr",
     "output_type": "stream",
     "text": [
      "2024-08-02 16:14:18.707132: W external/xla/xla/service/gpu/nvptx_compiler.cc:836] The NVIDIA driver's CUDA version is 12.2 which is older than the PTX compiler version (12.6.20). Because the driver is older than the PTX compiler version, XLA is disabling parallel compilation, which may slow down compilation. You should update your NVIDIA driver or use the NVIDIA-provided CUDA forward compatibility packages.\n"
     ]
    },
    {
     "data": {
      "text/plain": [
       "[Array([0.67553985, 1.2038263 ], dtype=float32),\n",
       " Array([[ 0.34255564,  0.5685504 ],\n",
       "        [-0.20184776,  0.27993938]], dtype=float32),\n",
       " (Array([[0.45399308, 0.9882534 ],\n",
       "         [0.66914034, 0.39668408]], dtype=float32),\n",
       "  {'hi': Array([[ 0.49424863, -1.2140406 ,  1.4335378 ],\n",
       "          [-0.57120335,  1.1757764 , -0.5835748 ],\n",
       "          [-0.09678406,  0.859609  ,  0.09980843]], dtype=float32)})]"
      ]
     },
     "execution_count": 2,
     "metadata": {},
     "output_type": "execute_result"
    }
   ],
   "source": [
    "example_tree = [jnp.zeros(2), jnp.zeros((2, 2)), (jnp.zeros((2, 2)), {'hi': jnp.zeros((3, 3))})]\n",
    "cju.tree_utils.normal_like(jax.random.key(123), example_tree)"
   ]
  },
  {
   "cell_type": "code",
   "execution_count": null,
   "metadata": {},
   "outputs": [],
   "source": []
  }
 ],
 "metadata": {
  "kernelspec": {
   "display_name": "crystals",
   "language": "python",
   "name": "python3"
  },
  "language_info": {
   "codemirror_mode": {
    "name": "ipython",
    "version": 3
   },
   "file_extension": ".py",
   "mimetype": "text/x-python",
   "name": "python",
   "nbconvert_exporter": "python",
   "pygments_lexer": "ipython3",
   "version": "3.10.14"
  }
 },
 "nbformat": 4,
 "nbformat_minor": 2
}
